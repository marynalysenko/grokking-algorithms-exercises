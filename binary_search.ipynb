{
 "cells": [
  {
   "cell_type": "markdown",
   "metadata": {},
   "source": [
    "# Бінарний пошук (binary search)\n",
    "алгоритм пошуку індекса елемента в упорядкованому масиві, в ньому використовується поділ масиву на половину, по цій причині алгоритм називають методом поділу пополам.\n",
    "\n",
    "Метод бінарного пошуку достатньо простий для розуміння, в той же час він дуже ефективний. Оскільки на кожній ітерації кількість елементів в робочій області масива зменшується вдвічі.\n",
    "\n",
    "### Опис алгоритму бінарного пошуку\n",
    "- визначаємо значення елемента в середині робочої області масиву та порівнюємо його з шуканим;\n",
    "- якщо вони рівні, виводимо значення;\n",
    "- якщо значення середини більше шуканого, то пошук продовжуємо в першій половині, інакше в другій;\n",
    "- перевіряємо чи не зійшлись межі робочої області, якщо так, то шуканого значення немає, якщо ні – переходимо на перший крок."
   ]
  },
  {
   "cell_type": "code",
   "execution_count": 41,
   "metadata": {},
   "outputs": [],
   "source": [
    "def binary_search(list, item):\n",
    "    low = 0 #значення low і high вказують на межі тієї частини списку, в якій ведеться пошук\n",
    "    high = len(list) - 1\n",
    "    while low <= high: #поки цей діапазон не звужується до одного елемента\n",
    "        mid = int((low + high) / 2) #перевіряємо середній елемент\n",
    "        guess = list[mid]\n",
    "        if guess == item: #знаходимо елемент\n",
    "            return mid\n",
    "        elif guess > item:  #значення guess велике\n",
    "            high = mid - 1 #змінюємо high\n",
    "        else:            #значення guess мале\n",
    "            low = mid + 1 #змінюємо low\n",
    "    return None"
   ]
  },
  {
   "cell_type": "code",
   "execution_count": 42,
   "metadata": {},
   "outputs": [],
   "source": [
    "def binary_search_with_gess_counter(list, item):\n",
    "    low = 0 #значення low і high вказують на межі тієї частини списку, в якій ведеться пошук\n",
    "    high = len(list) - 1\n",
    "    counter = 0\n",
    "    while low <= high: #поки цей діапазон не звужується до одного елемента\n",
    "        counter += 1\n",
    "        mid = int((low + high) / 2) #перевіряємо середній елемент\n",
    "        guess = list[mid]\n",
    "        if guess == item: #знаходимо елемент\n",
    "            return mid, counter\n",
    "        elif guess > item:  #значення guess велике\n",
    "            high = mid - 1 #змінюємо high\n",
    "        else:            #значення guess мале\n",
    "            low = mid + 1 #змінюємо low\n",
    "    return None, counter"
   ]
  },
  {
   "cell_type": "code",
   "execution_count": 43,
   "metadata": {},
   "outputs": [
    {
     "name": "stdout",
     "output_type": "stream",
     "text": [
      "1\n",
      "None\n"
     ]
    }
   ],
   "source": [
    "# test 1\n",
    "my_list = [1, 3, 5, 7, 9]\n",
    "print(binary_search(my_list, 3)) # => 1\n",
    "print(binary_search(my_list, -1)) # => None"
   ]
  },
  {
   "cell_type": "code",
   "execution_count": 44,
   "metadata": {},
   "outputs": [
    {
     "name": "stdout",
     "output_type": "stream",
     "text": [
      "Requirement already satisfied: faker in /opt/homebrew/lib/python3.10/site-packages (22.2.0)\n",
      "Requirement already satisfied: python-dateutil>=2.4 in /Users/marinalysenko/Library/Python/3.10/lib/python/site-packages (from faker) (2.8.2)\n",
      "Requirement already satisfied: six>=1.5 in /opt/homebrew/lib/python3.10/site-packages (from python-dateutil>=2.4->faker) (1.16.0)\n",
      "\n",
      "\u001b[1m[\u001b[0m\u001b[34;49mnotice\u001b[0m\u001b[1;39;49m]\u001b[0m\u001b[39;49m A new release of pip is available: \u001b[0m\u001b[31;49m23.2.1\u001b[0m\u001b[39;49m -> \u001b[0m\u001b[32;49m23.3.2\u001b[0m\n",
      "\u001b[1m[\u001b[0m\u001b[34;49mnotice\u001b[0m\u001b[1;39;49m]\u001b[0m\u001b[39;49m To update, run: \u001b[0m\u001b[32;49mpython3.10 -m pip install --upgrade pip\u001b[0m\n",
      "Note: you may need to restart the kernel to use updated packages.\n"
     ]
    }
   ],
   "source": [
    "pip install faker"
   ]
  },
  {
   "cell_type": "code",
   "execution_count": 45,
   "metadata": {},
   "outputs": [
    {
     "name": "stdout",
     "output_type": "stream",
     "text": [
      "[2, 7, 9, 24, 34, 40, 45, 58, 61, 68, 107, 108, 114, 119, 121, 137, 155, 183, 192, 197, 218, 218, 221, 222, 223, 226, 228, 236, 240, 243, 255, 262, 291, 297, 301, 304, 321, 334, 345, 345, 356, 379, 395, 410, 412, 439, 464, 474, 491, 498, 522, 530, 530, 543, 558, 563, 565, 586, 594, 602, 623, 626, 645, 661, 676, 700, 726, 750, 764, 771, 771, 806, 808, 810, 817, 823, 824, 828, 839, 841, 849, 858, 884, 892, 895, 900, 902, 913, 920, 920, 923, 952, 955, 956, 957, 957, 957, 984, 985, 1000]\n"
     ]
    }
   ],
   "source": [
    "# test 2\n",
    "# Creating Synthetic Data with Python Faker Library - generate random list of 100 numbers\n",
    "\n",
    "\n",
    "from faker import Faker\n",
    "fake = Faker()\n",
    "\n",
    "my_list = []\n",
    "for _ in range(100):\n",
    "    my_list.append(fake.random_int(min=0, max=1000))\n",
    "my_list.sort()\n",
    "print(my_list)\n"
   ]
  },
  {
   "cell_type": "code",
   "execution_count": 46,
   "metadata": {},
   "outputs": [
    {
     "name": "stdout",
     "output_type": "stream",
     "text": [
      "(None, 7)\n"
     ]
    }
   ],
   "source": [
    "print(binary_search_with_gess_counter(my_list, 968))"
   ]
  },
  {
   "cell_type": "code",
   "execution_count": 47,
   "metadata": {},
   "outputs": [
    {
     "data": {
      "text/plain": [
       "128"
      ]
     },
     "execution_count": 47,
     "metadata": {},
     "output_type": "execute_result"
    }
   ],
   "source": [
    "2**7"
   ]
  },
  {
   "cell_type": "code",
   "execution_count": 48,
   "metadata": {},
   "outputs": [
    {
     "data": {
      "text/plain": [
       "99999840411"
      ]
     },
     "execution_count": 48,
     "metadata": {},
     "output_type": "execute_result"
    }
   ],
   "source": [
    "# test 3\n",
    "# Creating Synthetic Data with Python Faker Library - generate random list of 240K numbers\n",
    "\n",
    "from faker import Faker\n",
    "fake = Faker()\n",
    "\n",
    "my_list = []\n",
    "for _ in range(240000):\n",
    "    my_list.append(fake.random_int(min=0, max=100000000000))\n",
    "my_list.sort()\n",
    "#print(my_list)\n",
    "\n",
    "my_list[-1]"
   ]
  },
  {
   "cell_type": "code",
   "execution_count": 49,
   "metadata": {},
   "outputs": [
    {
     "name": "stdout",
     "output_type": "stream",
     "text": [
      "(None, 18)\n"
     ]
    }
   ],
   "source": [
    "print(binary_search_with_gess_counter(my_list, 99999955837))"
   ]
  },
  {
   "cell_type": "code",
   "execution_count": 50,
   "metadata": {},
   "outputs": [
    {
     "name": "stdout",
     "output_type": "stream",
     "text": [
      "['Aaron', 'Adam', 'Adrian', 'Adriana', 'Alison', 'Alison', 'Allison', 'Amanda', 'Amanda', 'Amanda', 'Amy', 'Amy', 'Anna', 'Anna', 'Autumn', 'Benjamin', 'Brian', 'Briana', 'Caitlin', 'Chad', 'Chris', 'Chris', 'Chris', 'Christian', 'Christina', 'Christine', 'Christopher', 'Clayton', 'Cody', 'Curtis', 'Cynthia', 'Daniel', 'David', 'David', 'Deborah', 'Desiree', 'Donna', 'Douglas', 'Elizabeth', 'Elizabeth', 'Ernest', 'Gavin', 'Grant', 'Gregory', 'Herbert', 'Jack', 'Jack', 'Jacob', 'Jacqueline', 'Jaime', 'James', 'James', 'James', 'Jared', 'Jared', 'Jason', 'Jessica', 'Joel', 'John', 'Jonathan', 'Jordan', 'Jordan', 'Jose', 'Joshua', 'Julie', 'Julie', 'Karen', 'Katherine', 'Katie', 'Katrina', 'Keith', 'Kelly', 'Kelly', 'Kevin', 'Krystal', 'Krystal', 'Larry', 'Lauren', 'Logan', 'Lorraine', 'Luke', 'Marie', 'Mark', 'Mark', 'Mary', 'Matthew', 'Matthew', 'Matthew', 'Matthew', 'Matthew', 'Megan', 'Michael', 'Michael', 'Michael', 'Michelle', 'Mr.', 'Ms.', 'Nathan', 'Nicholas', 'Paul', 'Paula', 'Ralph', 'Randy', 'Rebecca', 'Rebecca', 'Renee', 'Rickey', 'Robert', 'Russell', 'Sally', 'Sarah', 'Scott', 'Scott', 'Scott', 'Scott', 'Scott', 'Shelly', 'Sherry', 'Steven', 'Susan', 'Tammy', 'Terri', 'Terry', 'Theresa', 'Timothy', 'Toni', 'Tonya', 'Vickie']\n"
     ]
    },
    {
     "data": {
      "text/plain": [
       "128"
      ]
     },
     "execution_count": 50,
     "metadata": {},
     "output_type": "execute_result"
    }
   ],
   "source": [
    "# exercise 1.1\n",
    "# Creating Synthetic Data with Python Faker Library - generate random list of 128 sorted names\n",
    "# leave only first name \n",
    "\n",
    "from faker import Faker\n",
    "fake = Faker()\n",
    "names = []\n",
    "for _ in range(128):\n",
    "    names.append(fake.name().split()[0])\n",
    "names.sort()\n",
    "print(names)\n",
    "len(names)\n",
    "\n"
   ]
  },
  {
   "cell_type": "code",
   "execution_count": 51,
   "metadata": {},
   "outputs": [
    {
     "name": "stdout",
     "output_type": "stream",
     "text": [
      "None\n",
      "None\n",
      "(None, 8)\n"
     ]
    }
   ],
   "source": [
    "print(binary_search(names, 'Alexander'))\n",
    "print(binary_search(names, 'Zachary'))\n",
    "print(binary_search_with_gess_counter(names, 'Zachary'))"
   ]
  },
  {
   "cell_type": "code",
   "execution_count": 52,
   "metadata": {},
   "outputs": [
    {
     "name": "stdout",
     "output_type": "stream",
     "text": [
      "['Aaron', 'Adam', 'Adrian', 'Alejandra', 'Alex', 'Amanda', 'Amanda', 'Amanda', 'Amanda', 'Amber', 'Angela', 'Anita', 'Anna', 'Anthony', 'Anthony', 'Anthony', 'Antonio', 'April', 'Ariel', 'Arthur', 'Ashley', 'Austin', 'Barbara', 'Benjamin', 'Bethany', 'Billy', 'Brandon', 'Brandon', 'Brandon', 'Brenda', 'Brian', 'Caitlin', 'Cameron', 'Cameron', 'Carol', 'Chad', 'Charles', 'Charles', 'Chloe', 'Chris', 'Christian', 'Christina', 'Christina', 'Christina', 'Christopher', 'Christopher', 'Cindy', 'Collin', 'Courtney', 'Craig', 'Crystal', 'Crystal', 'Curtis', 'Cynthia', 'Cynthia', 'Dakota', 'Dale', 'Dana', 'Daniel', 'Daniel', 'Danny', 'David', 'David', 'David', 'David', 'David', 'David', 'David', 'David', 'David', 'Dawn', 'Dean', 'Dennis', 'Derek', 'Derek', 'Donald', 'Dr.', 'Dustin', 'Edward', 'Edward', 'Elizabeth', 'Elizabeth', 'Emily', 'Eric', 'Erica', 'Erica', 'Erica', 'Ethan', 'Francisco', 'Gary', 'Geoffrey', 'George', 'Gloria', 'Gregory', 'Gregory', 'Gregory', 'Gregory', 'Gregory', 'Hayden', 'Hayden', 'Heather', 'Heather', 'Jacob', 'Jacob', 'Jacqueline', 'James', 'James', 'James', 'Jamie', 'Jasmine', 'Jason', 'Jeffrey', 'Jennifer', 'Jennifer', 'Jennifer', 'Jennifer', 'Jennifer', 'Jeremy', 'Jeremy', 'Jeremy', 'Jerry', 'Jesse', 'Jessica', 'Jill', 'Jill', 'John', 'John', 'John', 'John', 'John', 'John', 'Johnathan', 'Jose', 'Jose', 'Jose', 'Joseph', 'Joseph', 'Joseph', 'Joshua', 'Joshua', 'Joshua', 'Judith', 'Julie', 'Julie', 'Justin', 'Justin', 'Karen', 'Karen', 'Karina', 'Katherine', 'Kathleen', 'Kathy', 'Kimberly', 'Kimberly', 'Krista', 'Kristen', 'Kristi', 'Kristin', 'Larry', 'Leslie', 'Lindsey', 'Lindsey', 'Lisa', 'Lisa', 'Loretta', 'Lori', 'Manuel', 'Manuel', 'Mariah', 'Marie', 'Mario', 'Mark', 'Mark', 'Mary', 'Matthew', 'Matthew', 'Matthew', 'Matthew', 'Matthew', 'Matthew', 'Matthew', 'Megan', 'Melanie', 'Melissa', 'Melissa', 'Michael', 'Michael', 'Michael', 'Michael', 'Michelle', 'Miranda', 'Mr.', 'Mrs.', 'Mrs.', 'Nancy', 'Natasha', 'Neil', 'Nicholas', 'Nicole', 'Olivia', 'Paul', 'Rachel', 'Rachel', 'Randy', 'Randy', 'Rebecca', 'Renee', 'Ricardo', 'Richard', 'Richard', 'Richard', 'Richard', 'Ricky', 'Robert', 'Robert', 'Robert', 'Robert', 'Robert', 'Robin', 'Robin', 'Ronald', 'Sally', 'Sandra', 'Sarah', 'Sarah', 'Scott', 'Shane', 'Shane', 'Stephanie', 'Stephanie', 'Stephen', 'Steven', 'Steven', 'Steven', 'Steven', 'Suzanne', 'Suzanne', 'Tamara', 'Tanya', 'Teresa', 'Teresa', 'Terry', 'Thomas', 'Tiffany', 'Todd', 'Tony', 'Tonya', 'Tonya', 'Tracy', 'Travis', 'Tyler', 'Valerie', 'Veronica', 'Vickie', 'Victor', 'Wesley']\n"
     ]
    },
    {
     "data": {
      "text/plain": [
       "256"
      ]
     },
     "execution_count": 52,
     "metadata": {},
     "output_type": "execute_result"
    }
   ],
   "source": [
    "# exercise 1.2\n",
    "# Creating Synthetic Data with Python Faker Library - generate random list of 128*2 sorted names\n",
    "# leave only first name \n",
    "\n",
    "from faker import Faker\n",
    "fake = Faker()\n",
    "names = []\n",
    "for _ in range(128*2):\n",
    "    names.append(fake.name().split()[0])\n",
    "names.sort()\n",
    "print(names)\n",
    "len(names)\n"
   ]
  },
  {
   "cell_type": "code",
   "execution_count": 53,
   "metadata": {},
   "outputs": [
    {
     "name": "stdout",
     "output_type": "stream",
     "text": [
      "None\n",
      "None\n",
      "(None, 9)\n"
     ]
    }
   ],
   "source": [
    "print(binary_search(names, 'Alexander'))\n",
    "print(binary_search(names, 'Yesenia'))\n",
    "print(binary_search_with_gess_counter(names, 'Yesenia'))"
   ]
  },
  {
   "cell_type": "code",
   "execution_count": 54,
   "metadata": {},
   "outputs": [
    {
     "data": {
      "text/plain": [
       "512"
      ]
     },
     "execution_count": 54,
     "metadata": {},
     "output_type": "execute_result"
    }
   ],
   "source": [
    "2**9"
   ]
  }
 ],
 "metadata": {
  "kernelspec": {
   "display_name": "Python 3",
   "language": "python",
   "name": "python3"
  },
  "language_info": {
   "codemirror_mode": {
    "name": "ipython",
    "version": 3
   },
   "file_extension": ".py",
   "mimetype": "text/x-python",
   "name": "python",
   "nbconvert_exporter": "python",
   "pygments_lexer": "ipython3",
   "version": "3.10.12"
  }
 },
 "nbformat": 4,
 "nbformat_minor": 2
}
